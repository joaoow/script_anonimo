{
  "nbformat": 4,
  "nbformat_minor": 0,
  "metadata": {
    "colab": {
      "provenance": []
    },
    "kernelspec": {
      "name": "python3",
      "display_name": "Python 3"
    },
    "language_info": {
      "name": "python"
    }
  },
  "cells": [
    {
      "cell_type": "code",
      "source": [
        "# script anonima.py (versão alterada do script funcao5.py)\n",
        "def multiplicar_por(multiplicador):\n",
        "    return lambda multiplicando: multiplicando * multiplicador\n",
        "\n",
        "def main():\n",
        "    multiplicar_por_10 = multiplicar_por(10)\n",
        "    print(multiplicar_por_10(1))\n",
        "    print(multiplicar_por_10(2))\n",
        "\n",
        "    multiplicar_por_5 = multiplicar_por(5)\n",
        "    print(multiplicar_por_5(1))\n",
        "    print(multiplicar_por_5(2))\n",
        "\n",
        "if __name__ == \"__main__\":\n",
        "    main()\n"
      ],
      "metadata": {
        "colab": {
          "base_uri": "https://localhost:8080/"
        },
        "id": "eiwSEyauAjbF",
        "outputId": "a5d0dd29-671b-4381-cd7b-e40fcf4fc34f"
      },
      "execution_count": 2,
      "outputs": [
        {
          "output_type": "stream",
          "name": "stdout",
          "text": [
            "10\n",
            "20\n",
            "5\n",
            "10\n"
          ]
        }
      ]
    },
    {
      "cell_type": "code",
      "source": [
        "# script funcao5.py\n",
        "def multiplicar_por(multiplicador):\n",
        "    def multi(multiplicando):\n",
        "        return multiplicando * multiplicador\n",
        "    return multi\n",
        "\n",
        "def main():\n",
        "    multiplicar_por_10 = multiplicar_por(10)\n",
        "    print(multiplicar_por_10(1))\n",
        "    print(multiplicar_por_10(2))\n",
        "\n",
        "    multiplicar_por_5 = multiplicar_por(5)\n",
        "    print(multiplicar_por_5(1))\n",
        "    print(multiplicar_por_5(2))\n",
        "\n",
        "if __name__ == \"__main__\":\n",
        "    main()\n"
      ],
      "metadata": {
        "colab": {
          "base_uri": "https://localhost:8080/"
        },
        "id": "tvMF6XvyCMMe",
        "outputId": "2b1c4157-57de-42a1-8cbc-3c6bcf2e76ac"
      },
      "execution_count": 3,
      "outputs": [
        {
          "output_type": "stream",
          "name": "stdout",
          "text": [
            "10\n",
            "20\n",
            "5\n",
            "10\n"
          ]
        }
      ]
    }
  ]
}